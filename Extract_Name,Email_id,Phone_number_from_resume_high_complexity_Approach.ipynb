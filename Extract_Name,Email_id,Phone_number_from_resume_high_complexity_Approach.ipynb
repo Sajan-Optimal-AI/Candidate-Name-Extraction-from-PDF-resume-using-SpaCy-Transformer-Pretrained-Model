{
  "nbformat": 4,
  "nbformat_minor": 0,
  "metadata": {
    "colab": {
      "name": "Extract Name,Email_id,Phone number from resume_high complexity Approach.ipynb",
      "provenance": [],
      "collapsed_sections": []
    },
    "kernelspec": {
      "name": "python3",
      "display_name": "Python 3"
    },
    "language_info": {
      "name": "python"
    }
  },
  "cells": [
    {
      "cell_type": "code",
      "source": [
        "!pip install pymupdf"
      ],
      "metadata": {
        "id": "-V8PFqFchMVI",
        "colab": {
          "base_uri": "https://localhost:8080/"
        },
        "outputId": "548ee1cd-7d6b-4208-f0e7-1e04236060f5"
      },
      "execution_count": 1,
      "outputs": [
        {
          "output_type": "stream",
          "name": "stdout",
          "text": [
            "Requirement already satisfied: pymupdf in /usr/local/lib/python3.7/dist-packages (1.19.5)\n"
          ]
        }
      ]
    },
    {
      "cell_type": "code",
      "source": [
        "!pip install -U spacy -q"
      ],
      "metadata": {
        "id": "O5gifgm9scZX"
      },
      "execution_count": 2,
      "outputs": []
    },
    {
      "cell_type": "code",
      "source": [
        "!pip install spacy[transformers]"
      ],
      "metadata": {
        "colab": {
          "base_uri": "https://localhost:8080/"
        },
        "id": "nEgEZr5WscuO",
        "outputId": "1389fb3c-83aa-41a5-ad9c-6f27b040e570"
      },
      "execution_count": 3,
      "outputs": [
        {
          "output_type": "stream",
          "name": "stdout",
          "text": [
            "Requirement already satisfied: spacy[transformers] in /usr/local/lib/python3.7/dist-packages (3.2.1)\n",
            "Requirement already satisfied: typer<0.5.0,>=0.3.0 in /usr/local/lib/python3.7/dist-packages (from spacy[transformers]) (0.4.0)\n",
            "Requirement already satisfied: numpy>=1.15.0 in /usr/local/lib/python3.7/dist-packages (from spacy[transformers]) (1.19.5)\n",
            "Requirement already satisfied: preshed<3.1.0,>=3.0.2 in /usr/local/lib/python3.7/dist-packages (from spacy[transformers]) (3.0.6)\n",
            "Requirement already satisfied: spacy-legacy<3.1.0,>=3.0.8 in /usr/local/lib/python3.7/dist-packages (from spacy[transformers]) (3.0.8)\n",
            "Requirement already satisfied: srsly<3.0.0,>=2.4.1 in /usr/local/lib/python3.7/dist-packages (from spacy[transformers]) (2.4.2)\n",
            "Requirement already satisfied: tqdm<5.0.0,>=4.38.0 in /usr/local/lib/python3.7/dist-packages (from spacy[transformers]) (4.62.3)\n",
            "Requirement already satisfied: wasabi<1.1.0,>=0.8.1 in /usr/local/lib/python3.7/dist-packages (from spacy[transformers]) (0.9.0)\n",
            "Requirement already satisfied: jinja2 in /usr/local/lib/python3.7/dist-packages (from spacy[transformers]) (2.11.3)\n",
            "Requirement already satisfied: setuptools in /usr/local/lib/python3.7/dist-packages (from spacy[transformers]) (57.4.0)\n",
            "Requirement already satisfied: langcodes<4.0.0,>=3.2.0 in /usr/local/lib/python3.7/dist-packages (from spacy[transformers]) (3.3.0)\n",
            "Requirement already satisfied: cymem<2.1.0,>=2.0.2 in /usr/local/lib/python3.7/dist-packages (from spacy[transformers]) (2.0.6)\n",
            "Requirement already satisfied: catalogue<2.1.0,>=2.0.6 in /usr/local/lib/python3.7/dist-packages (from spacy[transformers]) (2.0.6)\n",
            "Requirement already satisfied: murmurhash<1.1.0,>=0.28.0 in /usr/local/lib/python3.7/dist-packages (from spacy[transformers]) (1.0.6)\n",
            "Requirement already satisfied: pathy>=0.3.5 in /usr/local/lib/python3.7/dist-packages (from spacy[transformers]) (0.6.1)\n",
            "Requirement already satisfied: thinc<8.1.0,>=8.0.12 in /usr/local/lib/python3.7/dist-packages (from spacy[transformers]) (8.0.13)\n",
            "Requirement already satisfied: blis<0.8.0,>=0.4.0 in /usr/local/lib/python3.7/dist-packages (from spacy[transformers]) (0.4.1)\n",
            "Requirement already satisfied: typing-extensions<4.0.0.0,>=3.7.4 in /usr/local/lib/python3.7/dist-packages (from spacy[transformers]) (3.10.0.2)\n",
            "Requirement already satisfied: pydantic!=1.8,!=1.8.1,<1.9.0,>=1.7.4 in /usr/local/lib/python3.7/dist-packages (from spacy[transformers]) (1.8.2)\n",
            "Requirement already satisfied: requests<3.0.0,>=2.13.0 in /usr/local/lib/python3.7/dist-packages (from spacy[transformers]) (2.23.0)\n",
            "Requirement already satisfied: packaging>=20.0 in /usr/local/lib/python3.7/dist-packages (from spacy[transformers]) (21.3)\n",
            "Requirement already satisfied: spacy-loggers<2.0.0,>=1.0.0 in /usr/local/lib/python3.7/dist-packages (from spacy[transformers]) (1.0.1)\n",
            "Requirement already satisfied: spacy-transformers<1.2.0,>=1.1.2 in /usr/local/lib/python3.7/dist-packages (from spacy[transformers]) (1.1.4)\n",
            "Requirement already satisfied: zipp>=0.5 in /usr/local/lib/python3.7/dist-packages (from catalogue<2.1.0,>=2.0.6->spacy[transformers]) (3.7.0)\n",
            "Requirement already satisfied: pyparsing!=3.0.5,>=2.0.2 in /usr/local/lib/python3.7/dist-packages (from packaging>=20.0->spacy[transformers]) (3.0.7)\n",
            "Requirement already satisfied: smart-open<6.0.0,>=5.0.0 in /usr/local/lib/python3.7/dist-packages (from pathy>=0.3.5->spacy[transformers]) (5.2.1)\n",
            "Requirement already satisfied: chardet<4,>=3.0.2 in /usr/local/lib/python3.7/dist-packages (from requests<3.0.0,>=2.13.0->spacy[transformers]) (3.0.4)\n",
            "Requirement already satisfied: urllib3!=1.25.0,!=1.25.1,<1.26,>=1.21.1 in /usr/local/lib/python3.7/dist-packages (from requests<3.0.0,>=2.13.0->spacy[transformers]) (1.25.11)\n",
            "Requirement already satisfied: idna<3,>=2.5 in /usr/local/lib/python3.7/dist-packages (from requests<3.0.0,>=2.13.0->spacy[transformers]) (2.10)\n",
            "Requirement already satisfied: certifi>=2017.4.17 in /usr/local/lib/python3.7/dist-packages (from requests<3.0.0,>=2.13.0->spacy[transformers]) (2021.10.8)\n",
            "Requirement already satisfied: spacy-alignments<1.0.0,>=0.7.2 in /usr/local/lib/python3.7/dist-packages (from spacy-transformers<1.2.0,>=1.1.2->spacy[transformers]) (0.8.4)\n",
            "Requirement already satisfied: torch>=1.6.0 in /usr/local/lib/python3.7/dist-packages (from spacy-transformers<1.2.0,>=1.1.2->spacy[transformers]) (1.10.0+cu111)\n",
            "Requirement already satisfied: transformers<4.16.0,>=3.4.0 in /usr/local/lib/python3.7/dist-packages (from spacy-transformers<1.2.0,>=1.1.2->spacy[transformers]) (4.15.0)\n",
            "Requirement already satisfied: filelock in /usr/local/lib/python3.7/dist-packages (from transformers<4.16.0,>=3.4.0->spacy-transformers<1.2.0,>=1.1.2->spacy[transformers]) (3.4.2)\n",
            "Requirement already satisfied: huggingface-hub<1.0,>=0.1.0 in /usr/local/lib/python3.7/dist-packages (from transformers<4.16.0,>=3.4.0->spacy-transformers<1.2.0,>=1.1.2->spacy[transformers]) (0.4.0)\n",
            "Requirement already satisfied: regex!=2019.12.17 in /usr/local/lib/python3.7/dist-packages (from transformers<4.16.0,>=3.4.0->spacy-transformers<1.2.0,>=1.1.2->spacy[transformers]) (2022.1.18)\n",
            "Requirement already satisfied: tokenizers<0.11,>=0.10.1 in /usr/local/lib/python3.7/dist-packages (from transformers<4.16.0,>=3.4.0->spacy-transformers<1.2.0,>=1.1.2->spacy[transformers]) (0.10.3)\n",
            "Requirement already satisfied: importlib-metadata in /usr/local/lib/python3.7/dist-packages (from transformers<4.16.0,>=3.4.0->spacy-transformers<1.2.0,>=1.1.2->spacy[transformers]) (4.10.1)\n",
            "Requirement already satisfied: sacremoses in /usr/local/lib/python3.7/dist-packages (from transformers<4.16.0,>=3.4.0->spacy-transformers<1.2.0,>=1.1.2->spacy[transformers]) (0.0.47)\n",
            "Requirement already satisfied: pyyaml>=5.1 in /usr/local/lib/python3.7/dist-packages (from transformers<4.16.0,>=3.4.0->spacy-transformers<1.2.0,>=1.1.2->spacy[transformers]) (6.0)\n",
            "Requirement already satisfied: click<9.0.0,>=7.1.1 in /usr/local/lib/python3.7/dist-packages (from typer<0.5.0,>=0.3.0->spacy[transformers]) (7.1.2)\n",
            "Requirement already satisfied: MarkupSafe>=0.23 in /usr/local/lib/python3.7/dist-packages (from jinja2->spacy[transformers]) (2.0.1)\n",
            "Requirement already satisfied: joblib in /usr/local/lib/python3.7/dist-packages (from sacremoses->transformers<4.16.0,>=3.4.0->spacy-transformers<1.2.0,>=1.1.2->spacy[transformers]) (1.1.0)\n",
            "Requirement already satisfied: six in /usr/local/lib/python3.7/dist-packages (from sacremoses->transformers<4.16.0,>=3.4.0->spacy-transformers<1.2.0,>=1.1.2->spacy[transformers]) (1.15.0)\n"
          ]
        }
      ]
    },
    {
      "cell_type": "code",
      "source": [
        "!python -m spacy download en_core_web_trf"
      ],
      "metadata": {
        "colab": {
          "base_uri": "https://localhost:8080/"
        },
        "id": "7HdI3AzwsdSn",
        "outputId": "0167cd83-bf03-4050-d335-2ef62ad4da16"
      },
      "execution_count": 4,
      "outputs": [
        {
          "output_type": "stream",
          "name": "stdout",
          "text": [
            "Collecting en-core-web-trf==3.2.0\n",
            "  Downloading https://github.com/explosion/spacy-models/releases/download/en_core_web_trf-3.2.0/en_core_web_trf-3.2.0-py3-none-any.whl (460.2 MB)\n",
            "\u001b[K     |████████████████████████████████| 460.2 MB 24 kB/s \n",
            "\u001b[?25hRequirement already satisfied: spacy-transformers<1.2.0,>=1.1.2 in /usr/local/lib/python3.7/dist-packages (from en-core-web-trf==3.2.0) (1.1.4)\n",
            "Requirement already satisfied: spacy<3.3.0,>=3.2.0 in /usr/local/lib/python3.7/dist-packages (from en-core-web-trf==3.2.0) (3.2.1)\n",
            "Requirement already satisfied: preshed<3.1.0,>=3.0.2 in /usr/local/lib/python3.7/dist-packages (from spacy<3.3.0,>=3.2.0->en-core-web-trf==3.2.0) (3.0.6)\n",
            "Requirement already satisfied: thinc<8.1.0,>=8.0.12 in /usr/local/lib/python3.7/dist-packages (from spacy<3.3.0,>=3.2.0->en-core-web-trf==3.2.0) (8.0.13)\n",
            "Requirement already satisfied: pathy>=0.3.5 in /usr/local/lib/python3.7/dist-packages (from spacy<3.3.0,>=3.2.0->en-core-web-trf==3.2.0) (0.6.1)\n",
            "Requirement already satisfied: tqdm<5.0.0,>=4.38.0 in /usr/local/lib/python3.7/dist-packages (from spacy<3.3.0,>=3.2.0->en-core-web-trf==3.2.0) (4.62.3)\n",
            "Requirement already satisfied: numpy>=1.15.0 in /usr/local/lib/python3.7/dist-packages (from spacy<3.3.0,>=3.2.0->en-core-web-trf==3.2.0) (1.19.5)\n",
            "Requirement already satisfied: wasabi<1.1.0,>=0.8.1 in /usr/local/lib/python3.7/dist-packages (from spacy<3.3.0,>=3.2.0->en-core-web-trf==3.2.0) (0.9.0)\n",
            "Requirement already satisfied: srsly<3.0.0,>=2.4.1 in /usr/local/lib/python3.7/dist-packages (from spacy<3.3.0,>=3.2.0->en-core-web-trf==3.2.0) (2.4.2)\n",
            "Requirement already satisfied: murmurhash<1.1.0,>=0.28.0 in /usr/local/lib/python3.7/dist-packages (from spacy<3.3.0,>=3.2.0->en-core-web-trf==3.2.0) (1.0.6)\n",
            "Requirement already satisfied: catalogue<2.1.0,>=2.0.6 in /usr/local/lib/python3.7/dist-packages (from spacy<3.3.0,>=3.2.0->en-core-web-trf==3.2.0) (2.0.6)\n",
            "Requirement already satisfied: jinja2 in /usr/local/lib/python3.7/dist-packages (from spacy<3.3.0,>=3.2.0->en-core-web-trf==3.2.0) (2.11.3)\n",
            "Requirement already satisfied: packaging>=20.0 in /usr/local/lib/python3.7/dist-packages (from spacy<3.3.0,>=3.2.0->en-core-web-trf==3.2.0) (21.3)\n",
            "Requirement already satisfied: requests<3.0.0,>=2.13.0 in /usr/local/lib/python3.7/dist-packages (from spacy<3.3.0,>=3.2.0->en-core-web-trf==3.2.0) (2.23.0)\n",
            "Requirement already satisfied: pydantic!=1.8,!=1.8.1,<1.9.0,>=1.7.4 in /usr/local/lib/python3.7/dist-packages (from spacy<3.3.0,>=3.2.0->en-core-web-trf==3.2.0) (1.8.2)\n",
            "Requirement already satisfied: typer<0.5.0,>=0.3.0 in /usr/local/lib/python3.7/dist-packages (from spacy<3.3.0,>=3.2.0->en-core-web-trf==3.2.0) (0.4.0)\n",
            "Requirement already satisfied: spacy-loggers<2.0.0,>=1.0.0 in /usr/local/lib/python3.7/dist-packages (from spacy<3.3.0,>=3.2.0->en-core-web-trf==3.2.0) (1.0.1)\n",
            "Requirement already satisfied: typing-extensions<4.0.0.0,>=3.7.4 in /usr/local/lib/python3.7/dist-packages (from spacy<3.3.0,>=3.2.0->en-core-web-trf==3.2.0) (3.10.0.2)\n",
            "Requirement already satisfied: blis<0.8.0,>=0.4.0 in /usr/local/lib/python3.7/dist-packages (from spacy<3.3.0,>=3.2.0->en-core-web-trf==3.2.0) (0.4.1)\n",
            "Requirement already satisfied: cymem<2.1.0,>=2.0.2 in /usr/local/lib/python3.7/dist-packages (from spacy<3.3.0,>=3.2.0->en-core-web-trf==3.2.0) (2.0.6)\n",
            "Requirement already satisfied: spacy-legacy<3.1.0,>=3.0.8 in /usr/local/lib/python3.7/dist-packages (from spacy<3.3.0,>=3.2.0->en-core-web-trf==3.2.0) (3.0.8)\n",
            "Requirement already satisfied: langcodes<4.0.0,>=3.2.0 in /usr/local/lib/python3.7/dist-packages (from spacy<3.3.0,>=3.2.0->en-core-web-trf==3.2.0) (3.3.0)\n",
            "Requirement already satisfied: setuptools in /usr/local/lib/python3.7/dist-packages (from spacy<3.3.0,>=3.2.0->en-core-web-trf==3.2.0) (57.4.0)\n",
            "Requirement already satisfied: zipp>=0.5 in /usr/local/lib/python3.7/dist-packages (from catalogue<2.1.0,>=2.0.6->spacy<3.3.0,>=3.2.0->en-core-web-trf==3.2.0) (3.7.0)\n",
            "Requirement already satisfied: pyparsing!=3.0.5,>=2.0.2 in /usr/local/lib/python3.7/dist-packages (from packaging>=20.0->spacy<3.3.0,>=3.2.0->en-core-web-trf==3.2.0) (3.0.7)\n",
            "Requirement already satisfied: smart-open<6.0.0,>=5.0.0 in /usr/local/lib/python3.7/dist-packages (from pathy>=0.3.5->spacy<3.3.0,>=3.2.0->en-core-web-trf==3.2.0) (5.2.1)\n",
            "Requirement already satisfied: urllib3!=1.25.0,!=1.25.1,<1.26,>=1.21.1 in /usr/local/lib/python3.7/dist-packages (from requests<3.0.0,>=2.13.0->spacy<3.3.0,>=3.2.0->en-core-web-trf==3.2.0) (1.25.11)\n",
            "Requirement already satisfied: chardet<4,>=3.0.2 in /usr/local/lib/python3.7/dist-packages (from requests<3.0.0,>=2.13.0->spacy<3.3.0,>=3.2.0->en-core-web-trf==3.2.0) (3.0.4)\n",
            "Requirement already satisfied: idna<3,>=2.5 in /usr/local/lib/python3.7/dist-packages (from requests<3.0.0,>=2.13.0->spacy<3.3.0,>=3.2.0->en-core-web-trf==3.2.0) (2.10)\n",
            "Requirement already satisfied: certifi>=2017.4.17 in /usr/local/lib/python3.7/dist-packages (from requests<3.0.0,>=2.13.0->spacy<3.3.0,>=3.2.0->en-core-web-trf==3.2.0) (2021.10.8)\n",
            "Requirement already satisfied: transformers<4.16.0,>=3.4.0 in /usr/local/lib/python3.7/dist-packages (from spacy-transformers<1.2.0,>=1.1.2->en-core-web-trf==3.2.0) (4.15.0)\n",
            "Requirement already satisfied: spacy-alignments<1.0.0,>=0.7.2 in /usr/local/lib/python3.7/dist-packages (from spacy-transformers<1.2.0,>=1.1.2->en-core-web-trf==3.2.0) (0.8.4)\n",
            "Requirement already satisfied: torch>=1.6.0 in /usr/local/lib/python3.7/dist-packages (from spacy-transformers<1.2.0,>=1.1.2->en-core-web-trf==3.2.0) (1.10.0+cu111)\n",
            "Requirement already satisfied: tokenizers<0.11,>=0.10.1 in /usr/local/lib/python3.7/dist-packages (from transformers<4.16.0,>=3.4.0->spacy-transformers<1.2.0,>=1.1.2->en-core-web-trf==3.2.0) (0.10.3)\n",
            "Requirement already satisfied: sacremoses in /usr/local/lib/python3.7/dist-packages (from transformers<4.16.0,>=3.4.0->spacy-transformers<1.2.0,>=1.1.2->en-core-web-trf==3.2.0) (0.0.47)\n",
            "Requirement already satisfied: pyyaml>=5.1 in /usr/local/lib/python3.7/dist-packages (from transformers<4.16.0,>=3.4.0->spacy-transformers<1.2.0,>=1.1.2->en-core-web-trf==3.2.0) (6.0)\n",
            "Requirement already satisfied: importlib-metadata in /usr/local/lib/python3.7/dist-packages (from transformers<4.16.0,>=3.4.0->spacy-transformers<1.2.0,>=1.1.2->en-core-web-trf==3.2.0) (4.10.1)\n",
            "Requirement already satisfied: regex!=2019.12.17 in /usr/local/lib/python3.7/dist-packages (from transformers<4.16.0,>=3.4.0->spacy-transformers<1.2.0,>=1.1.2->en-core-web-trf==3.2.0) (2022.1.18)\n",
            "Requirement already satisfied: huggingface-hub<1.0,>=0.1.0 in /usr/local/lib/python3.7/dist-packages (from transformers<4.16.0,>=3.4.0->spacy-transformers<1.2.0,>=1.1.2->en-core-web-trf==3.2.0) (0.4.0)\n",
            "Requirement already satisfied: filelock in /usr/local/lib/python3.7/dist-packages (from transformers<4.16.0,>=3.4.0->spacy-transformers<1.2.0,>=1.1.2->en-core-web-trf==3.2.0) (3.4.2)\n",
            "Requirement already satisfied: click<9.0.0,>=7.1.1 in /usr/local/lib/python3.7/dist-packages (from typer<0.5.0,>=0.3.0->spacy<3.3.0,>=3.2.0->en-core-web-trf==3.2.0) (7.1.2)\n",
            "Requirement already satisfied: MarkupSafe>=0.23 in /usr/local/lib/python3.7/dist-packages (from jinja2->spacy<3.3.0,>=3.2.0->en-core-web-trf==3.2.0) (2.0.1)\n",
            "Requirement already satisfied: six in /usr/local/lib/python3.7/dist-packages (from sacremoses->transformers<4.16.0,>=3.4.0->spacy-transformers<1.2.0,>=1.1.2->en-core-web-trf==3.2.0) (1.15.0)\n",
            "Requirement already satisfied: joblib in /usr/local/lib/python3.7/dist-packages (from sacremoses->transformers<4.16.0,>=3.4.0->spacy-transformers<1.2.0,>=1.1.2->en-core-web-trf==3.2.0) (1.1.0)\n",
            "\u001b[38;5;2m✔ Download and installation successful\u001b[0m\n",
            "You can now load the package via spacy.load('en_core_web_trf')\n"
          ]
        }
      ]
    },
    {
      "cell_type": "code",
      "source": [
        "import spacy\n",
        "nlp = spacy.load('en_core_web_trf') "
      ],
      "metadata": {
        "id": "LIeR0zK4tdQO"
      },
      "execution_count": 5,
      "outputs": []
    },
    {
      "cell_type": "markdown",
      "source": [
        "Pdf to text"
      ],
      "metadata": {
        "id": "S7879zwkXIOt"
      }
    },
    {
      "cell_type": "code",
      "source": [
        "import re\n",
        "import sys, fitz\n",
        "\n",
        "def text_extract(path):\n",
        "  doc = fitz.open(path)\n",
        "  tx=\"\"\n",
        "  for page in doc:\n",
        "    tx = tx + str(page.get_text())\n",
        "  text = \" \".join(tx.split('\\n'))\n",
        "  return text"
      ],
      "metadata": {
        "id": "NQZPIUVStqKe"
      },
      "execution_count": 34,
      "outputs": []
    },
    {
      "cell_type": "code",
      "source": [
        "path = ('/content/drive/MyDrive/Bebin Suresh_Sample_Profile.pdf')"
      ],
      "metadata": {
        "id": "5A5IhmkeRPct"
      },
      "execution_count": 33,
      "outputs": []
    },
    {
      "cell_type": "code",
      "source": [
        "text = text_extract(path)"
      ],
      "metadata": {
        "id": "yAF8CIfgRTUs"
      },
      "execution_count": 35,
      "outputs": []
    },
    {
      "cell_type": "code",
      "source": [
        "text"
      ],
      "metadata": {
        "colab": {
          "base_uri": "https://localhost:8080/",
          "height": 122
        },
        "id": "R_RoVEzaRbHr",
        "outputId": "207fc3f5-e3d0-4d54-efc3-5042ad9f10cf"
      },
      "execution_count": 36,
      "outputs": [
        {
          "output_type": "execute_result",
          "data": {
            "application/vnd.google.colaboratory.intrinsic+json": {
              "type": "string"
            },
            "text/plain": [
              "'  C. Bebin Suresh  Leader at Capgemini   bebin.suresh@gmail.com  +919845696049 - Cell      Experience Summary    •  Bebin Suresh has 20 years and 6 months of work experience in Information Technology  Industry with   ✓ 3 Years of experience in heading Environment Management Practice    •  Good working experience and knowledge in Consulting, Innovative Solutions Creation,  Pre Sales support, Project Delivery, Conceptualizing & Building CoE’s and Practices.      Domain Experience     •  Excellent Consulting skills and experiences in setting up Testing-CoE’s, Environment  Management Functions, Applications Testing, Performance Engineering Labs/CoE’s      •  Expertise in developing new solutions/frameworks for addressing business challenges.  ✓ Developed WIP-SHARP Performance Engineering framework   ✓ REAL – Framework for Environment Management function setup    •  Extensive knowledge and experience in   ✓ Enterprise Architecture, Environment Design & Build, Applications deployment and  Support  ✓ Expertise in Test Automation, Performance Engineering, DevOps and Service  Virtualization  ✓ Application design, development, testing and Implementation utilizing Client Server,  Web, IBM mainframe and distributed technologies  ✓ PMI, CMMI/TMMI Process and Standards  Achievements    Key Business Wins:     •  Led the proposal and solution and won the Environment Management deals in  ✓ Leading Financial Services Bank in US - (Application deployment, Batch Support,  Environment Management & Support)  ✓ Major Retailer in US - (My Infrastructure QA & Environment Management solutions  are the game changer  for $ 81.430 M USD QA-CoE deal and received best  solutions award)  ✓ .    Awards:     •  “THE BEST BUSINESS SOLUTIONS” award for the year 2012 in Wipro Testing Services    •  “THE BEST LARGE QA TEAM” award for the year 2006 in Wipro Testing  Services\\\\    •  “QUALITY FREAK” award for the year 2003 in Wipro Testing Services       Educational Qualifications    •  B.E. (Electronics and Communications Engineering) from MS University, TN, 1994    •  MBA (Operations Management) from IGNOU, New Delhi - 2000    Trainings/Certifications    •  Managing Ambiguity – Wipro – 2012  •  Global Managers Program – Wipro – 2009  •  Business Leaders Program  - Wipro - 2006  •  Project Management Professional – PMI – 2004    Key Roles & Projects       a. Practice Head  - BQAS, IQAS & EQAS    Period    : 1/04/2010 to Present         Responsibilities  : Have been responsible for defining vision, strategy, service offerings,  setting targets, branding and positioning, engagement oversight and stake-holder management  for practices Backbone Quality Assurance Service(BQAS), Infrastructure Quality Assurance  Service (IQAS) and Environment Quality Assurance Service (EQAS).    Key Contributions:  •  Front ended Key business deals with the value propositions of Applications Build &   Deployment, Environment Management & Assurance and Infrastructure QA  •  Developed Innovative Business solutions in the area of QA, Mainframe Technologies, Cloud  and Non Cloud Environments     Key Accomplishments:    •  Exceeded the business targets in the short span of time in the niche skill set area  •  Become a game changer Practice group for large QA deals   •  Well managed P& L , Operational Parameters and Business demand fulfillment    b. Group Head  - Subject Matter Expert Group (SMEG)    Period    : 1/01/2007 to 31/03/2010          Responsibilities  : Have been responsible for defining vision, strategy, service offerings,  setting targets, branding and positioning, engagement oversight and stake-holder management,  initiate COE’s, sub-practices and point solutions for BFSI clients    Key Contributions:  •  Involved in defining SMEG group Vision, Strategy, and Service offerings for BFSI customers  •  Building SMEG team comprised of a Practice Leads, Senior DTAs, QA process Consultants  and QA engineers  •  Developing multi skilled Business domain, Technology and QA Process experts (DTAs –  Domain Test Analysts)    Key Accomplishments:  •  Successfully implemented Mainframe QA COE and ramped up 140+ MF QA resources  •  Build FIX and SWIFT solutions delivery team     c. Practice Manager - Pre Sales & Business Solutions      Key Clients  : Lehman Brothers, Charles Schwab, UBS, Capital Group, Guy           Carpenter & Washington Mutual    Period    : 12/04/2004 to 31/12/2004         Responsibilities  : Have been responsible for Quality Assurance consultancy and pre sales  activities for existing and   prospective securities & capital market, banking, financial services,  and insurance industry customers.     Key Contributions:  •  Business solutions development  •  Leading various QA RFI/RFP’s response preparation & presentations   •  Development of Innovative solutions and QA Frameworks for Test Automation and   Key Accomplishments:  •  Received various appreciations from clients for QA, Performance Engineering and Test  Automation consultancies  d. Project Delivery  Key Projects:     1. Project   : Managed Quality Assurance Services            (03/01/2005 – 22/12/2006)  Client  :  Charles Schwab, UBS   Role  :  Delivery Manager - QA  Responsibilities: Have been responsible for setting up Managed QA services model for various  business units in Schwab. Also responsible for managing other QA projects in UBS at the  program level. The QA projects include key specialized testing like Performance Engineering,  Test Automation and Business Scenario testing.     Contribution:  •  Instrumental in setting up managed QA services model  •  Involved in SLA based Managed QA Services strategy and implementation road map         Preparation    Key Accomplishments:  •  Actively involved in preparation of various Managed QA services proposal (150+  resource requirements) and won the business  2. Project     :  Lehman Global Quality Assurance            (06/01/2003 – 09/04/2004)  Client    :  Lehman Brothers  Role    :  Project Manager  Team Size   :  25 +  Description  :   Lehman Brothers is a global investment bank serving the financial needs  of corporations, institutions, governments and high net worth investors worldwide. Lehman  Brothers actively participates in the global capital markets through a closely integrated network of  offices anchored by a worldwide headquarters in New York and regional headquarters in London     Key Accomplishments:  •  Established first independent QA practice in the securities/BFSI industry space   from  ground zero.  •  Ramped up the team with various business skills within the short duration and received  good appreciation from client and Wipro.    3. Project   :  Ulysses                                                                       (25/02/2002 - 29/11/2002)  Client  :  Transco, U.K.  Team Size :  150+  Role  :  Lead Consultant - Performance Engineering   Description: Provide Performance Test Consultancy, Manage & Execute System testing  (Functional and Performance Testing) activities for a J2EE based Ulysses business application  and Data warehousing solution developed by Wipro for Transco,U.K.    Contribution:   •  Strategize, plan, manage & execute the System and Performance Testing activities  •  Performance Engineering framework WIP-SHARP development and implementation    4. Project   :  Pick Up and Delivery System                                 (01/11/2001 - 23/02/2002)  Client  :  EXEL  Role  :  Project Manager – QA/Performance Engineering   Description: Provide performance test consultancy for a J2EE based web application and  developed for tracking every day Pick Up and Delivering activities in EXEL.     Contribution:  •  Verification and Validation of EXEL-Pick Up and delivery system  •  Also involved in building up a team for IV&V operations in Enterprise Applications     integration testing.    5. Project     :  Nike            (1/05/2000- 28/06/2001)  Client    :  Dun & BradStreet, U.K.  Role    :  Project Manager  Description  : Dun & Bradstreet (D&B) is the leading provider of business-to-business  credit, marketing, purchasing, and receivable management and decision-support services  worldwide. D&B is using Nike system to maintain business and individual information’s for  German, Belgium and Netherlands. It has two main sub-systems called Nike Back office and Nike  front office. All the data collection and uploading process executed in the Nike back office and  delivery and order management would be in the front office. Nike system is a very complex  system and has 64 components/applications and all the components/ applications interconnected  by Eastman Kodack Workflow system.    Environment  : Oracle 8i, C, C++, and Natstar under Windows NT System.    Contribution  : Involved in system analysis, detailed design, test plan preparation, system  testing, end to end testing, production support, implementation, client and user interaction and  transitioning the application to offshore        Professional Experience    Organization      : Wipro Technologies,            Sarjapur Road, Bangalore – 560 035  Position      : Practice Head   Period       : 26/04/1999 – Till date        Skills/Technical Proficiencies     Functional Areas  Domain/Technology/Tools    Business Domain  Securities and Capital Market, Financial Services, Retail  and Utilities  Management  Project Management, Delivery, Process Automation,  Quality Assurance & QA Consulting   E-Com Frameworks/Web Technologies   J2EE, EJB, EAI  Databases  IDMS, DB2, Oracle, Sybase  Development/Productivity Tools  Crystal Reports, JCL/Proc, MF-Cobol, MS Office, MS  Project, PL/SQL, VC++, VS COBOL-II, Visual Age,   Programming Languages  C/C++, Cobol, HTML, Java, XML  Software Engineering  Methodologies/Tools  OOAD, PVCS, Rational Clear Quest, Requisite Pro and  Rational Rose, Mercury interactive tools(ALM, QC, Test  Director, LoadRunner, Win Runner & QTP)         Personal Details    Name            - Bebin Suresh C      Nationality          - Indian    Address          - 62, 4t Main, Classic Paradise Layout,                Begur Road,                Bangalore - 560068      References    •  Available on request  '"
            ]
          },
          "metadata": {},
          "execution_count": 36
        }
      ]
    },
    {
      "cell_type": "markdown",
      "source": [
        "text to strings"
      ],
      "metadata": {
        "id": "D14JnkvHXMRV"
      }
    },
    {
      "cell_type": "code",
      "source": [
        "def string_divider(text):\n",
        "  doc_a = nlp(text)\n",
        "  sentences = []\n",
        "  for sent in doc_a.sents:\n",
        "    sentences.append(str(sent))\n",
        "  return sentences"
      ],
      "metadata": {
        "id": "YbOtT7letyY2"
      },
      "execution_count": 37,
      "outputs": []
    },
    {
      "cell_type": "code",
      "source": [
        "sentences = string_divider(text)"
      ],
      "metadata": {
        "colab": {
          "base_uri": "https://localhost:8080/"
        },
        "id": "cAPsN8GvRvwE",
        "outputId": "43b706dc-bbab-4c94-e878-875e5d618888"
      },
      "execution_count": 38,
      "outputs": [
        {
          "output_type": "stream",
          "name": "stderr",
          "text": [
            "/usr/local/lib/python3.7/dist-packages/torch/autocast_mode.py:141: UserWarning: User provided device_type of 'cuda', but CUDA is not available. Disabling\n",
            "  warnings.warn('User provided device_type of \\'cuda\\', but CUDA is not available. Disabling')\n",
            "\n"
          ]
        }
      ]
    },
    {
      "cell_type": "code",
      "source": [
        "print(sentences)"
      ],
      "metadata": {
        "colab": {
          "base_uri": "https://localhost:8080/"
        },
        "id": "eFXOKJDDTyG8",
        "outputId": "88c8bf16-3c28-48da-eec5-bffb34df14c7"
      },
      "execution_count": 39,
      "outputs": [
        {
          "output_type": "stream",
          "name": "stdout",
          "text": [
            "['  C. Bebin Suresh  Leader at Capgemini', '  bebin.suresh@gmail.com', ' +919845696049 - Cell', '     Experience Summary    •  Bebin Suresh has 20 years and 6 months of work experience in Information Technology  Industry with   ✓ 3 Years of experience in heading Environment Management Practice', '   •  Good working experience and knowledge in Consulting, Innovative Solutions Creation,  Pre Sales support, Project Delivery, Conceptualizing & Building CoE’s and Practices.', '     Domain Experience     •  Excellent Consulting skills and experiences in setting up Testing-CoE’s, Environment  Management Functions, Applications Testing, Performance Engineering Labs/CoE’s      •  Expertise in developing new solutions/frameworks for addressing business challenges.  ✓ Developed WIP-SHARP Performance Engineering framework   ✓ REAL – Framework for Environment Management function setup    •  Extensive knowledge and experience in   ✓ Enterprise Architecture, Environment Design & Build, Applications deployment and  Support  ✓ Expertise in Test Automation, Performance Engineering, DevOps and Service  Virtualization  ✓ Application design, development, testing and Implementation utilizing Client Server,  Web, IBM mainframe and distributed technologies  ✓ PMI, CMMI/TMMI Process and Standards  Achievements    ', 'Key Business Wins:     •  Led the proposal and solution and won the Environment Management deals in  ✓ Leading Financial Services Bank in US - (Application deployment, Batch Support,  Environment Management & Support)', ' ✓ Major Retailer in US - (My Infrastructure QA & Environment Management solutions  are the game changer  for $ 81.430 M USD QA-CoE deal and received best  solutions award)  ✓ .    Awards:     •  “THE BEST BUSINESS SOLUTIONS” award for the year 2012 in Wipro Testing Services    •  “THE BEST LARGE QA TEAM” award for the year 2006 in Wipro Testing  Services\\\\    •  “QUALITY FREAK” award for the year 2003 in Wipro Testing Services       Educational Qualifications    •  B.E. (Electronics and Communications Engineering) from MS University, TN, 1994    •  MBA (Operations Management) from IGNOU, New Delhi - 2000    Trainings/Certifications    •  Managing Ambiguity – Wipro – 2012  •  Global Managers Program – Wipro – 2009  •  Business Leaders Program  - Wipro - 2006  •  Project Management Professional – PMI – 2004    Key Roles & Projects       a. Practice Head  - BQAS, IQAS & EQAS    Period    : 1/04/2010 to Present         Responsibilities', ' : Have been responsible for defining vision, strategy, service offerings,  setting targets, branding and positioning, engagement oversight and stake-holder management  for practices Backbone Quality Assurance Service(BQAS), Infrastructure Quality Assurance  Service (IQAS) and Environment Quality Assurance Service (EQAS).', '   ', 'Key Contributions:  •  Front ended Key business deals with the value propositions of Applications Build &   Deployment, Environment Management & Assurance and Infrastructure QA  •  Developed Innovative Business solutions in the area of QA, Mainframe Technologies, Cloud  and Non Cloud Environments     ', 'Key Accomplishments:    •  Exceeded the business targets in the short span of time in the niche skill set area  •  Become a game changer', 'Practice group for large QA deals', '  •  Well managed P& L , Operational Parameters and Business demand fulfillment    ', 'b.', 'Group', 'Head  - Subject Matter Expert Group (SMEG)', '   Period    : 1/01/2007 to 31/03/2010          Responsibilities', ' : Have been responsible for defining vision, strategy, service offerings,  setting targets, branding and positioning, engagement oversight and stake-holder management,  initiate COE’s, sub-practices and point solutions for BFSI clients    ', 'Key Contributions:  •  Involved in defining SMEG group Vision, Strategy, and Service offerings for BFSI customers  •  Building SMEG team comprised of a Practice Leads, Senior DTAs, QA process Consultants  and QA engineers  •  Developing multi skilled Business domain, Technology and QA Process experts (DTAs –  Domain Test Analysts)    ', 'Key Accomplishments:  •  Successfully implemented Mainframe QA COE and ramped up 140+ MF QA resources  •  Build FIX and SWIFT solutions delivery team     c. Practice Manager - Pre Sales & Business Solutions', '     ', 'Key Clients  : Lehman Brothers, Charles Schwab, UBS, Capital Group, Guy           Carpenter & Washington Mutual    Period    : 12/04/2004 to 31/12/2004         Responsibilities  : Have been responsible for Quality Assurance consultancy and pre sales  activities for existing and   prospective securities & capital market, banking, financial services,  and insurance industry customers.     Key Contributions:  •  Business solutions development  •  Leading various QA RFI/RFP’s response preparation & presentations   •  Development of Innovative solutions and QA Frameworks for Test Automation and   Key Accomplishments:  •  Received various appreciations from clients for QA, Performance Engineering and Test  Automation consultancies  d. Project Delivery  Key Projects:     1. Project   : Managed Quality Assurance Services            (03/01/2005 – 22/12/2006)  Client  :  Charles Schwab, UBS   Role  :  Delivery Manager - QA  Responsibilities:', 'Have been responsible for setting up Managed QA services model for various  business units in Schwab.', 'Also responsible for managing other QA projects in UBS at the  program level.', 'The QA projects include key specialized testing like Performance Engineering,  Test Automation and Business Scenario testing.', '    ', 'Contribution:  •  Instrumental in setting up managed QA services model', ' •  Involved in SLA based Managed QA Services strategy and implementation road map         Preparation', '   ', 'Key Accomplishments:  •  Actively involved in preparation of various Managed QA services proposal (150+  resource requirements) and won the business  2. Project     :  Lehman Global Quality Assurance            (06/01/2003 – 09/04/2004)  Client    :  Lehman Brothers  Role    :  Project Manager  Team Size   :  25 +  ', 'Description', ' :', '  Lehman Brothers is a global investment bank serving the financial needs  of corporations, institutions, governments and high net worth investors worldwide.', 'Lehman  Brothers actively participates in the global capital markets through a closely integrated network of  offices anchored by a worldwide headquarters in New York and regional headquarters in London     ', 'Key Accomplishments:  •  Established first independent QA practice in the securities/BFSI industry space   from  ground zero.', ' •', ' Ramped up the team with various business skills within the short duration and received  good appreciation from client and Wipro.    ', '3', '.', 'Project', '  :  Ulysses                                                                       ', '(25/02/2002 - 29/11/2002)  Client  :  Transco, U.K.  ', 'Team', 'Size :  150+  Role', ' :', ' Lead Consultant - Performance Engineering   Description: Provide Performance Test Consultancy, Manage & Execute System testing  (Functional and Performance Testing) activities for a J2EE based Ulysses business application  and Data warehousing solution developed by Wipro for Transco,U.K.    Contribution:   •  Strategize, plan, manage & execute the System and Performance Testing activities  •  Performance Engineering framework WIP-SHARP development and implementation    4. Project   :  Pick Up and Delivery System                                 ', '(01/11/2001 - 23/02/2002)', ' ', 'Client  :  EXEL  Role', ' :  Project Manager – QA/Performance Engineering   Description: Provide performance test consultancy for a J2EE based web application and  developed for tracking every day Pick Up and Delivering activities in EXEL.', '    ', 'Contribution:  •  Verification and Validation of EXEL-Pick Up and delivery system  •  Also involved in building up a team for IV&V operations in Enterprise Applications     integration testing.', '   ', '5. Project     :  Nike            (1/05/2000- 28/06/2001)  Client    :  Dun & BradStreet, U.K.  Role    :  Project Manager  Description  : Dun & Bradstreet (D&B) is the leading provider of business-to-business  credit, marketing, purchasing, and receivable management and decision-support services  worldwide.', 'D&B is using Nike system to maintain business and individual information’s for  German, Belgium and Netherlands.', 'It has two main sub-systems called Nike Back office and Nike  front office.', 'All the data collection and uploading process executed in the Nike back office and  delivery and order management would be in the front office.', 'Nike system is a very complex  system and has 64 components/applications and all the components/ applications interconnected  by Eastman Kodack Workflow system.', '   Environment  : Oracle 8i, C, C++, and Natstar under Windows NT System.', '   Contribution  : Involved in system analysis, detailed design, test plan preparation, system  testing, end to end testing, production support, implementation, client and user interaction and  transitioning the application to offshore        Professional Experience    Organization      : Wipro Technologies,            Sarjapur Road, Bangalore – 560 035  Position', '     : Practice Head   Period       : 26/04/1999 – Till date        Skills/Technical Proficiencies     Functional Areas  Domain/Technology/Tools    Business Domain  Securities and Capital Market, Financial Services, Retail  and Utilities  Management  Project Management, Delivery, Process Automation,  Quality Assurance & QA Consulting   E-Com Frameworks/Web Technologies   J2EE, EJB, EAI  Databases  IDMS, DB2, Oracle, Sybase  Development/Productivity Tools  Crystal Reports, JCL/Proc, MF-Cobol, MS Office, MS  Project, PL/SQL, VC++, VS COBOL-II, Visual Age,   Programming Languages  C/C++, Cobol, HTML, Java, XML  Software Engineering  Methodologies/Tools  OOAD, PVCS, Rational Clear Quest, Requisite Pro and  Rational Rose, Mercury interactive tools(ALM, QC, Test  Director, LoadRunner, Win Runner & QTP)         ', 'Personal Details', '   ', 'Name            - Bebin Suresh', 'C      Nationality', '         - Indian    Address', '         - 62, 4t Main, Classic Paradise Layout,', '               Begur Road,                Bangalore - 560068      References    •  Available on request', ' ']\n"
          ]
        }
      ]
    },
    {
      "cell_type": "markdown",
      "source": [
        "Strings to entity"
      ],
      "metadata": {
        "id": "jc1LDWxtXRNN"
      }
    },
    {
      "cell_type": "code",
      "source": [
        "def entity_extraction(sentences):\n",
        "  n = len(sentences)\n",
        "  String_location_Finalized=[]\n",
        "  Name_Finalized = []\n",
        "  for i in range(n):\n",
        "    string = sentences[i]\n",
        "    doc1 = nlp(string)\n",
        "    if len(doc1.ents) >= 1:\n",
        "      for X in doc1.ents:\n",
        "        Name = []\n",
        "        Name_Final = []\n",
        "        Label = []\n",
        "        String_location = []\n",
        "        if X.label_ is 'PERSON':\n",
        "          String_location.append(i)\n",
        "          Label.append(X.label_)\n",
        "          Name.append(X.text)\n",
        "          Name_string =','.join(Name)\n",
        "          Name_Final.append(Name_string)\n",
        "        else:\n",
        "          pass\n",
        "        if len(Name_Final) > 0:\n",
        "          Name_Finalized.extend(Name_Final)\n",
        "        else:\n",
        "          pass\n",
        "        if len(String_location) >0:\n",
        "          String_location_Finalized.extend(String_location)\n",
        "        else:\n",
        "          pass\n",
        "  \n",
        "  return String_location_Finalized,Name_Finalized\n"
      ],
      "metadata": {
        "id": "zbt78SoUR83U"
      },
      "execution_count": 40,
      "outputs": []
    },
    {
      "cell_type": "code",
      "source": [
        "String_location_Finalized,Name_Finalized = entity_extraction(sentences)"
      ],
      "metadata": {
        "colab": {
          "base_uri": "https://localhost:8080/"
        },
        "id": "UtXG0E3aTIIU",
        "outputId": "d97846c9-12e2-43d8-e0df-cd51c786d649"
      },
      "execution_count": 41,
      "outputs": [
        {
          "output_type": "stream",
          "name": "stderr",
          "text": [
            "/usr/local/lib/python3.7/dist-packages/torch/autocast_mode.py:141: UserWarning: User provided device_type of 'cuda', but CUDA is not available. Disabling\n",
            "  warnings.warn('User provided device_type of \\'cuda\\', but CUDA is not available. Disabling')\n",
            "\n"
          ]
        }
      ]
    },
    {
      "cell_type": "markdown",
      "source": [
        "Finalyze name,email_id,mobile_no"
      ],
      "metadata": {
        "id": "-UkoOzy6XVju"
      }
    },
    {
      "cell_type": "code",
      "source": [
        "String_location_Finalized"
      ],
      "metadata": {
        "colab": {
          "base_uri": "https://localhost:8080/"
        },
        "id": "srY1GthuXX6F",
        "outputId": "f5acb92a-e2ba-4d6c-b124-9e62cd3386d6"
      },
      "execution_count": 42,
      "outputs": [
        {
          "output_type": "execute_result",
          "data": {
            "text/plain": [
              "[0, 3, 22]"
            ]
          },
          "metadata": {},
          "execution_count": 42
        }
      ]
    },
    {
      "cell_type": "code",
      "source": [
        "Name_Finalized"
      ],
      "metadata": {
        "colab": {
          "base_uri": "https://localhost:8080/"
        },
        "id": "D09CaZXKX0QF",
        "outputId": "5b6ce623-2d9b-4ac9-9617-8474c2a572a2"
      },
      "execution_count": 43,
      "outputs": [
        {
          "output_type": "execute_result",
          "data": {
            "text/plain": [
              "['C. Bebin Suresh', 'Bebin Suresh', 'Guy']"
            ]
          },
          "metadata": {},
          "execution_count": 43
        }
      ]
    },
    {
      "cell_type": "code",
      "source": [
        "def finalyze_name(String_location_Finalized,Name_Finalized):\n",
        "  x = String_location_Finalized\n",
        "  y = Name_Finalized\n",
        "  if len(String_location_Finalized) > 0:\n",
        "    min_located_string = min(x)\n",
        "    index = x.index(min_located_string)\n",
        "    string_final = y[index]\n",
        "    string = string_final.split(',')\n",
        "    name_candidate = string[0]\n",
        "  else:\n",
        "    name_candidate = ''\n",
        "\n",
        "  return name_candidate"
      ],
      "metadata": {
        "id": "i7DOqOisit-m"
      },
      "execution_count": 44,
      "outputs": []
    },
    {
      "cell_type": "code",
      "source": [
        "name_candidate = finalyze_name(String_location_Finalized,Name_Finalized)"
      ],
      "metadata": {
        "id": "dLgvyay4kQUP"
      },
      "execution_count": 45,
      "outputs": []
    },
    {
      "cell_type": "code",
      "source": [
        "name_candidate"
      ],
      "metadata": {
        "colab": {
          "base_uri": "https://localhost:8080/",
          "height": 35
        },
        "id": "AJESCFwEkdN3",
        "outputId": "1a93d9c4-2cde-4104-bd34-6fa4f691fe73"
      },
      "execution_count": 46,
      "outputs": [
        {
          "output_type": "execute_result",
          "data": {
            "application/vnd.google.colaboratory.intrinsic+json": {
              "type": "string"
            },
            "text/plain": [
              "'C. Bebin Suresh'"
            ]
          },
          "metadata": {},
          "execution_count": 46
        }
      ]
    },
    {
      "cell_type": "code",
      "source": [
        "def phone_number_ext(text):\n",
        "  PHONE_REG = re.compile(r'[\\+\\(]?[1-9][0-9 .\\-\\(\\)]{8,}[0-9]')\n",
        "  number = re.findall(PHONE_REG, text)\n",
        "  phone_number = \",\".join(number)\n",
        "  Phone_number = phone_number.split(',')\n",
        "  Phone_Number = Phone_number[0]\n",
        "\n",
        "  return Phone_Number"
      ],
      "metadata": {
        "id": "Unj9K5GTlrx3"
      },
      "execution_count": 47,
      "outputs": []
    },
    {
      "cell_type": "code",
      "source": [
        "Phone_Number = phone_number_ext(text)"
      ],
      "metadata": {
        "id": "PqgO7YxGmBiX"
      },
      "execution_count": 48,
      "outputs": []
    },
    {
      "cell_type": "code",
      "source": [
        "Phone_Number"
      ],
      "metadata": {
        "colab": {
          "base_uri": "https://localhost:8080/",
          "height": 35
        },
        "id": "74sbEtSVmJme",
        "outputId": "d71a49ea-92b3-4d93-d239-4aba8cf20964"
      },
      "execution_count": 49,
      "outputs": [
        {
          "output_type": "execute_result",
          "data": {
            "application/vnd.google.colaboratory.intrinsic+json": {
              "type": "string"
            },
            "text/plain": [
              "'+919845696049'"
            ]
          },
          "metadata": {},
          "execution_count": 49
        }
      ]
    },
    {
      "cell_type": "code",
      "source": [
        "def email_id_ext(text):\n",
        "  EMAIL_REG = re.compile(r'[a-z0-9\\.\\-+_]+@[a-z0-9\\.\\-+_]+\\.[a-z]+')\n",
        "  email_id = re.findall(EMAIL_REG, text)\n",
        "  Email_id = \",\".join(email_id)\n",
        "  Email_Id = Email_id.split(',')\n",
        "  Email_address = Email_Id[0]\n",
        "\n",
        "  return Email_address\n"
      ],
      "metadata": {
        "id": "bx2NoRYMnVYA"
      },
      "execution_count": 50,
      "outputs": []
    },
    {
      "cell_type": "code",
      "source": [
        "Email_address = email_id_ext(text)"
      ],
      "metadata": {
        "id": "fiLn6KwwnqVQ"
      },
      "execution_count": 51,
      "outputs": []
    },
    {
      "cell_type": "code",
      "source": [
        "Email_address "
      ],
      "metadata": {
        "colab": {
          "base_uri": "https://localhost:8080/",
          "height": 35
        },
        "id": "xbgy6lO-nu3_",
        "outputId": "a8cb93ac-d85f-4ef8-ea0a-1d35c9382ef4"
      },
      "execution_count": 52,
      "outputs": [
        {
          "output_type": "execute_result",
          "data": {
            "application/vnd.google.colaboratory.intrinsic+json": {
              "type": "string"
            },
            "text/plain": [
              "'bebin.suresh@gmail.com'"
            ]
          },
          "metadata": {},
          "execution_count": 52
        }
      ]
    }
  ]
}